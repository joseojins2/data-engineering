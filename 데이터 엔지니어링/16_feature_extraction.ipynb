{
 "cells": [
  {
   "cell_type": "markdown",
   "metadata": {},
   "source": [
    "## **16. 특징 추출 및 변환**"
   ]
  },
  {
   "cell_type": "code",
   "execution_count": 1,
   "metadata": {},
   "outputs": [],
   "source": [
    "import pandas as pd\n",
    "import numpy as np\n",
    "from datetime import datetime\n",
    "from matplotlib import pyplot as plt\n",
    "import seaborn as sns"
   ]
  },
  {
   "cell_type": "code",
   "execution_count": 2,
   "metadata": {},
   "outputs": [
    {
     "name": "stderr",
     "output_type": "stream",
     "text": [
      "/var/folders/r3/8qpscbdd02j64s3_f7plrvqw0000gn/T/ipykernel_28339/1189875795.py:8: FutureWarning: The argument 'date_parser' is deprecated and will be removed in a future version. Please use 'date_format' instead, or read your data in as 'object' dtype and then call 'to_datetime'.\n",
      "  df = pd.read_csv(input_file,\n"
     ]
    },
    {
     "data": {
      "text/html": [
       "<div>\n",
       "<style scoped>\n",
       "    .dataframe tbody tr th:only-of-type {\n",
       "        vertical-align: middle;\n",
       "    }\n",
       "\n",
       "    .dataframe tbody tr th {\n",
       "        vertical-align: top;\n",
       "    }\n",
       "\n",
       "    .dataframe thead th {\n",
       "        text-align: right;\n",
       "    }\n",
       "</style>\n",
       "<table border=\"1\" class=\"dataframe\">\n",
       "  <thead>\n",
       "    <tr style=\"text-align: right;\">\n",
       "      <th></th>\n",
       "      <th>CO(GT)</th>\n",
       "      <th>PT08.S1(CO)</th>\n",
       "      <th>PT08.S2(NMHC)</th>\n",
       "      <th>NOx(GT)</th>\n",
       "      <th>PT08.S3(NOx)</th>\n",
       "      <th>NO2(GT)</th>\n",
       "      <th>PT08.S4(NO2)</th>\n",
       "      <th>PT08.S5(O3)</th>\n",
       "      <th>RH</th>\n",
       "      <th>AH</th>\n",
       "      <th>C6H6(GT)</th>\n",
       "    </tr>\n",
       "    <tr>\n",
       "      <th>Datetime</th>\n",
       "      <th></th>\n",
       "      <th></th>\n",
       "      <th></th>\n",
       "      <th></th>\n",
       "      <th></th>\n",
       "      <th></th>\n",
       "      <th></th>\n",
       "      <th></th>\n",
       "      <th></th>\n",
       "      <th></th>\n",
       "      <th></th>\n",
       "    </tr>\n",
       "  </thead>\n",
       "  <tbody>\n",
       "    <tr>\n",
       "      <th>2004-03-10 18:00:00</th>\n",
       "      <td>2.6</td>\n",
       "      <td>1360.0</td>\n",
       "      <td>1046.0</td>\n",
       "      <td>166.0</td>\n",
       "      <td>1056.0</td>\n",
       "      <td>113.0</td>\n",
       "      <td>1692.0</td>\n",
       "      <td>1268.0</td>\n",
       "      <td>48.9</td>\n",
       "      <td>0.7578</td>\n",
       "      <td>11.9</td>\n",
       "    </tr>\n",
       "    <tr>\n",
       "      <th>2004-03-10 19:00:00</th>\n",
       "      <td>2.0</td>\n",
       "      <td>1292.0</td>\n",
       "      <td>955.0</td>\n",
       "      <td>103.0</td>\n",
       "      <td>1174.0</td>\n",
       "      <td>92.0</td>\n",
       "      <td>1559.0</td>\n",
       "      <td>972.0</td>\n",
       "      <td>47.7</td>\n",
       "      <td>0.7255</td>\n",
       "      <td>9.4</td>\n",
       "    </tr>\n",
       "    <tr>\n",
       "      <th>2004-03-10 20:00:00</th>\n",
       "      <td>2.2</td>\n",
       "      <td>1402.0</td>\n",
       "      <td>939.0</td>\n",
       "      <td>131.0</td>\n",
       "      <td>1140.0</td>\n",
       "      <td>114.0</td>\n",
       "      <td>1555.0</td>\n",
       "      <td>1074.0</td>\n",
       "      <td>54.0</td>\n",
       "      <td>0.7502</td>\n",
       "      <td>9.0</td>\n",
       "    </tr>\n",
       "    <tr>\n",
       "      <th>2004-03-10 21:00:00</th>\n",
       "      <td>2.2</td>\n",
       "      <td>1376.0</td>\n",
       "      <td>948.0</td>\n",
       "      <td>172.0</td>\n",
       "      <td>1092.0</td>\n",
       "      <td>122.0</td>\n",
       "      <td>1584.0</td>\n",
       "      <td>1203.0</td>\n",
       "      <td>60.0</td>\n",
       "      <td>0.7867</td>\n",
       "      <td>9.2</td>\n",
       "    </tr>\n",
       "    <tr>\n",
       "      <th>2004-03-10 22:00:00</th>\n",
       "      <td>1.6</td>\n",
       "      <td>1272.0</td>\n",
       "      <td>836.0</td>\n",
       "      <td>131.0</td>\n",
       "      <td>1205.0</td>\n",
       "      <td>116.0</td>\n",
       "      <td>1490.0</td>\n",
       "      <td>1110.0</td>\n",
       "      <td>59.6</td>\n",
       "      <td>0.7888</td>\n",
       "      <td>6.5</td>\n",
       "    </tr>\n",
       "  </tbody>\n",
       "</table>\n",
       "</div>"
      ],
      "text/plain": [
       "                     CO(GT)  PT08.S1(CO)  PT08.S2(NMHC)  NOx(GT)  \\\n",
       "Datetime                                                           \n",
       "2004-03-10 18:00:00     2.6       1360.0         1046.0    166.0   \n",
       "2004-03-10 19:00:00     2.0       1292.0          955.0    103.0   \n",
       "2004-03-10 20:00:00     2.2       1402.0          939.0    131.0   \n",
       "2004-03-10 21:00:00     2.2       1376.0          948.0    172.0   \n",
       "2004-03-10 22:00:00     1.6       1272.0          836.0    131.0   \n",
       "\n",
       "                     PT08.S3(NOx)  NO2(GT)  PT08.S4(NO2)  PT08.S5(O3)    RH  \\\n",
       "Datetime                                                                      \n",
       "2004-03-10 18:00:00        1056.0    113.0        1692.0       1268.0  48.9   \n",
       "2004-03-10 19:00:00        1174.0     92.0        1559.0        972.0  47.7   \n",
       "2004-03-10 20:00:00        1140.0    114.0        1555.0       1074.0  54.0   \n",
       "2004-03-10 21:00:00        1092.0    122.0        1584.0       1203.0  60.0   \n",
       "2004-03-10 22:00:00        1205.0    116.0        1490.0       1110.0  59.6   \n",
       "\n",
       "                         AH  C6H6(GT)  \n",
       "Datetime                               \n",
       "2004-03-10 18:00:00  0.7578      11.9  \n",
       "2004-03-10 19:00:00  0.7255       9.4  \n",
       "2004-03-10 20:00:00  0.7502       9.0  \n",
       "2004-03-10 21:00:00  0.7867       9.2  \n",
       "2004-03-10 22:00:00  0.7888       6.5  "
      ]
     },
     "execution_count": 2,
     "metadata": {},
     "output_type": "execute_result"
    }
   ],
   "source": [
    "# 데이터 읽어오기\n",
    "\n",
    "def parser(x):\n",
    "    return datetime.strptime(x, '%Y-%m-%d %H:%M:%S')\n",
    "\n",
    "input_file = './data/AirQualityUCI_refined.csv'\n",
    "\n",
    "df = pd.read_csv(input_file,\n",
    "                 index_col=[0],\n",
    "                 parse_dates=[0],\n",
    "                 date_parser=parser)\n",
    "\n",
    "df.head()"
   ]
  },
  {
   "cell_type": "code",
   "execution_count": 3,
   "metadata": {},
   "outputs": [
    {
     "data": {
      "text/plain": [
       "<contextlib.ExitStack at 0x1650cb990>"
      ]
     },
     "execution_count": 3,
     "metadata": {},
     "output_type": "execute_result"
    }
   ],
   "source": [
    "#  # 시각화 설정 옵션\n",
    "%matplotlib qt5\n",
    "%config InlineBackend.figure_format = 'svg'\n",
    "\n",
    "plt.rcParams['figure.figsize'] = [12, 5]\n",
    "plt.rcParams['font.size'] = 13\n",
    "plt.ion()"
   ]
  },
  {
   "cell_type": "code",
   "execution_count": 4,
   "metadata": {},
   "outputs": [],
   "source": [
    "# [+] 일산화탄소 변수 결측 데이터 처리\n",
    "co = df['CO(GT)'].copy()  # 복사본 생성\n",
    "co.interpolate(inplace=True) # 선형 보간"
   ]
  },
  {
   "cell_type": "markdown",
   "metadata": {},
   "source": [
    "### **구간화**(binning)"
   ]
  },
  {
   "cell_type": "code",
   "execution_count": 5,
   "metadata": {},
   "outputs": [
    {
     "name": "stdout",
     "output_type": "stream",
     "text": [
      "11.9 0.0\n"
     ]
    }
   ],
   "source": [
    "# [+] 최대값, 최소값\n",
    "max_val = co.max()\n",
    "min_val = co.min()\n",
    "\n",
    "print(max_val, min_val)"
   ]
  },
  {
   "cell_type": "code",
   "execution_count": 6,
   "metadata": {},
   "outputs": [
    {
     "data": {
      "text/plain": [
       "array([ 0.  ,  2.38,  4.76,  7.14,  9.52, 11.9 ])"
      ]
     },
     "execution_count": 6,
     "metadata": {},
     "output_type": "execute_result"
    }
   ],
   "source": [
    "# [+] 구간 별 기준 값 집합 생성\n",
    "bins = np.linspace(min_val, max_val, 6)\n",
    "bins"
   ]
  },
  {
   "cell_type": "code",
   "execution_count": 7,
   "metadata": {},
   "outputs": [],
   "source": [
    "# 구간에 대한 레이블 집합\n",
    "labels=['0<=x<2.38', '2.38<=x<4.76', '4.76<=x<7.14',\n",
    "       '7.14<=x<9.52', '9.52<=x<11.9']"
   ]
  },
  {
   "cell_type": "code",
   "execution_count": 8,
   "metadata": {},
   "outputs": [
    {
     "name": "stdout",
     "output_type": "stream",
     "text": [
      "<class 'pandas.core.frame.DataFrame'>\n",
      "DatetimeIndex: 9357 entries, 2004-03-10 18:00:00 to 2005-04-04 14:00:00\n",
      "Data columns (total 12 columns):\n",
      " #   Column         Non-Null Count  Dtype   \n",
      "---  ------         --------------  -----   \n",
      " 0   CO(GT)         7765 non-null   float64 \n",
      " 1   PT08.S1(CO)    8991 non-null   float64 \n",
      " 2   PT08.S2(NMHC)  8991 non-null   float64 \n",
      " 3   NOx(GT)        7718 non-null   float64 \n",
      " 4   PT08.S3(NOx)   8991 non-null   float64 \n",
      " 5   NO2(GT)        7715 non-null   float64 \n",
      " 6   PT08.S4(NO2)   8991 non-null   float64 \n",
      " 7   PT08.S5(O3)    8991 non-null   float64 \n",
      " 8   RH             8991 non-null   float64 \n",
      " 9   AH             8991 non-null   float64 \n",
      " 10  C6H6(GT)       9357 non-null   float64 \n",
      " 11  bins           9357 non-null   category\n",
      "dtypes: category(1), float64(11)\n",
      "memory usage: 886.6 KB\n"
     ]
    }
   ],
   "source": [
    "# 일산화탄소 변수(수치형)에 대한 범주형 변수 생성\n",
    "df['bins'] = pd.cut(\n",
    "    co, \n",
    "    bins=bins, \n",
    "    labels=labels, \n",
    "    include_lowest=True\n",
    ")\n",
    "\n",
    "df.info()"
   ]
  },
  {
   "cell_type": "code",
   "execution_count": 9,
   "metadata": {},
   "outputs": [
    {
     "data": {
      "text/plain": [
       "Datetime\n",
       "2004-03-10 18:00:00    2.38<=x<4.76\n",
       "2004-03-10 19:00:00       0<=x<2.38\n",
       "2004-03-10 20:00:00       0<=x<2.38\n",
       "2004-03-10 21:00:00       0<=x<2.38\n",
       "2004-03-10 22:00:00       0<=x<2.38\n",
       "                           ...     \n",
       "2005-04-04 10:00:00    2.38<=x<4.76\n",
       "2005-04-04 11:00:00    2.38<=x<4.76\n",
       "2005-04-04 12:00:00    2.38<=x<4.76\n",
       "2005-04-04 13:00:00       0<=x<2.38\n",
       "2005-04-04 14:00:00       0<=x<2.38\n",
       "Name: bins, Length: 9357, dtype: category\n",
       "Categories (5, object): ['0<=x<2.38' < '2.38<=x<4.76' < '4.76<=x<7.14' < '7.14<=x<9.52' < '9.52<=x<11.9']"
      ]
     },
     "execution_count": 9,
     "metadata": {},
     "output_type": "execute_result"
    }
   ],
   "source": [
    "# bins 변수 출력\n",
    "df['bins']"
   ]
  },
  {
   "cell_type": "code",
   "execution_count": 10,
   "metadata": {},
   "outputs": [],
   "source": [
    "# bins 변수의 히스토그램 시각화\n",
    "plt.hist(sorted(df['bins']), bins=len(bins)-1)\n",
    "plt.show()"
   ]
  },
  {
   "cell_type": "code",
   "execution_count": null,
   "metadata": {},
   "outputs": [],
   "source": [
    "sns.distplot(co)"
   ]
  },
  {
   "cell_type": "markdown",
   "metadata": {},
   "source": [
    "### **로그 변환**(log transformation)"
   ]
  },
  {
   "cell_type": "code",
   "execution_count": 11,
   "metadata": {},
   "outputs": [
    {
     "name": "stderr",
     "output_type": "stream",
     "text": [
      "/opt/anaconda3/lib/python3.11/site-packages/seaborn/_oldcore.py:1119: FutureWarning: use_inf_as_na option is deprecated and will be removed in a future version. Convert inf values to NaN before operating instead.\n",
      "  with pd.option_context('mode.use_inf_as_na', True):\n"
     ]
    },
    {
     "data": {
      "text/plain": [
       "<seaborn.axisgrid.FacetGrid at 0x300b1b4d0>"
      ]
     },
     "execution_count": 11,
     "metadata": {},
     "output_type": "execute_result"
    }
   ],
   "source": [
    "# 질소 산화물 분포 시각화\n",
    "sns.displot(df['PT08.S3(NOx)'], kde=True)"
   ]
  },
  {
   "cell_type": "code",
   "execution_count": 12,
   "metadata": {},
   "outputs": [],
   "source": [
    "# [+] 로그 스케일로 변환: Common logarithm(log10)\n",
    "df['log'] = np.log10(df['PT08.S3(NOx)'])"
   ]
  },
  {
   "cell_type": "code",
   "execution_count": 13,
   "metadata": {},
   "outputs": [
    {
     "data": {
      "text/plain": [
       "Datetime\n",
       "2004-03-10 18:00:00    3.023664\n",
       "2004-03-10 19:00:00    3.069668\n",
       "2004-03-10 20:00:00    3.056905\n",
       "2004-03-10 21:00:00    3.038223\n",
       "2004-03-10 22:00:00    3.080987\n",
       "                         ...   \n",
       "2005-04-04 10:00:00    2.731589\n",
       "2005-04-04 11:00:00    2.781037\n",
       "2005-04-04 12:00:00    2.780317\n",
       "2005-04-04 13:00:00    2.846337\n",
       "2005-04-04 14:00:00    2.815578\n",
       "Name: log, Length: 9357, dtype: float64"
      ]
     },
     "execution_count": 13,
     "metadata": {},
     "output_type": "execute_result"
    }
   ],
   "source": [
    "# 변환된 변수 출력\n",
    "df['log']"
   ]
  },
  {
   "cell_type": "code",
   "execution_count": 14,
   "metadata": {},
   "outputs": [
    {
     "name": "stderr",
     "output_type": "stream",
     "text": [
      "/opt/anaconda3/lib/python3.11/site-packages/seaborn/_oldcore.py:1119: FutureWarning: use_inf_as_na option is deprecated and will be removed in a future version. Convert inf values to NaN before operating instead.\n",
      "  with pd.option_context('mode.use_inf_as_na', True):\n"
     ]
    }
   ],
   "source": [
    "# 변환된 변수의 분포 시각화\n",
    "sns.displot(df['log'], kde=True)\n",
    "plt.xlabel('log(NOx)')\n",
    "plt.show()"
   ]
  },
  {
   "cell_type": "markdown",
   "metadata": {},
   "source": [
    "### **원핫인코딩**(one-hot encoding)"
   ]
  },
  {
   "cell_type": "code",
   "execution_count": 3,
   "metadata": {},
   "outputs": [
    {
     "data": {
      "text/html": [
       "<div>\n",
       "<style scoped>\n",
       "    .dataframe tbody tr th:only-of-type {\n",
       "        vertical-align: middle;\n",
       "    }\n",
       "\n",
       "    .dataframe tbody tr th {\n",
       "        vertical-align: top;\n",
       "    }\n",
       "\n",
       "    .dataframe thead th {\n",
       "        text-align: right;\n",
       "    }\n",
       "</style>\n",
       "<table border=\"1\" class=\"dataframe\">\n",
       "  <thead>\n",
       "    <tr style=\"text-align: right;\">\n",
       "      <th></th>\n",
       "      <th>emp_id</th>\n",
       "      <th>gender</th>\n",
       "      <th>remarks</th>\n",
       "    </tr>\n",
       "  </thead>\n",
       "  <tbody>\n",
       "    <tr>\n",
       "      <th>0</th>\n",
       "      <td>1</td>\n",
       "      <td>Male</td>\n",
       "      <td>Nice</td>\n",
       "    </tr>\n",
       "    <tr>\n",
       "      <th>1</th>\n",
       "      <td>2</td>\n",
       "      <td>Female</td>\n",
       "      <td>Good</td>\n",
       "    </tr>\n",
       "    <tr>\n",
       "      <th>2</th>\n",
       "      <td>3</td>\n",
       "      <td>Female</td>\n",
       "      <td>Great</td>\n",
       "    </tr>\n",
       "    <tr>\n",
       "      <th>3</th>\n",
       "      <td>4</td>\n",
       "      <td>Male</td>\n",
       "      <td>Great</td>\n",
       "    </tr>\n",
       "    <tr>\n",
       "      <th>4</th>\n",
       "      <td>5</td>\n",
       "      <td>Female</td>\n",
       "      <td>Nice</td>\n",
       "    </tr>\n",
       "  </tbody>\n",
       "</table>\n",
       "</div>"
      ],
      "text/plain": [
       "   emp_id  gender remarks\n",
       "0       1    Male    Nice\n",
       "1       2  Female    Good\n",
       "2       3  Female   Great\n",
       "3       4    Male   Great\n",
       "4       5  Female    Nice"
      ]
     },
     "execution_count": 3,
     "metadata": {},
     "output_type": "execute_result"
    }
   ],
   "source": [
    "# 예제 데이터: 인사 평가\n",
    "\n",
    "emp_id = pd.Series([1, 2, 3, 4, 5])\n",
    "gender = pd.Series(['Male', 'Female', 'Female', 'Male', 'Female'])\n",
    "remarks = pd.Series(['Nice', 'Good', 'Great', 'Great', 'Nice'])\n",
    "\n",
    "df_emp = pd.DataFrame()\n",
    "df_emp['emp_id'] = emp_id\n",
    "df_emp['gender'] = gender\n",
    "df_emp['remarks'] = remarks\n",
    "\n",
    "df_emp"
   ]
  },
  {
   "cell_type": "code",
   "execution_count": 16,
   "metadata": {},
   "outputs": [
    {
     "name": "stdout",
     "output_type": "stream",
     "text": [
      "['Male' 'Female']\n",
      "['Nice' 'Good' 'Great']\n"
     ]
    }
   ],
   "source": [
    "# [+] 범주형 변수 별(gender, remarks) Unique value 리스트 출력\n",
    "print(df_emp['gender'].unique())\n",
    "print(df_emp['remarks'].unique())"
   ]
  },
  {
   "cell_type": "code",
   "execution_count": null,
   "metadata": {},
   "outputs": [],
   "source": [
    "# [+] 원핫인코딩 적용: 범주형 변수 -> 이진값 벡터\n",
    "df_emp_encoded = pd.get_dummies(df_emp, columns=['gender','remarks'], dtype=float)\n",
    "df_emp_encoded"
   ]
  },
  {
   "cell_type": "markdown",
   "metadata": {},
   "source": [
    "### **정규화**(normalization)"
   ]
  },
  {
   "cell_type": "code",
   "execution_count": 5,
   "metadata": {},
   "outputs": [],
   "source": [
    "# [+] 비메탄탄화수소 변수 결측 데이터 처리\n",
    "nmhc =  df['PT08.S2(NMHC)']# 복사본 생성 \n",
    "nmhc.interpolate(inplace=True) # 결측치 처리"
   ]
  },
  {
   "cell_type": "code",
   "execution_count": 6,
   "metadata": {},
   "outputs": [
    {
     "data": {
      "text/plain": [
       "<matplotlib.legend.Legend at 0x168c8a350>"
      ]
     },
     "execution_count": 6,
     "metadata": {},
     "output_type": "execute_result"
    },
    {
     "data": {
      "image/png": "[encoded data removed]",
      "text/plain": [
       "<Figure size 640x480 with 1 Axes>"
      ]
     },
     "metadata": {},
     "output_type": "display_data"
    }
   ],
   "source": [
    "# 스케일이 서로 다른 두 변수 시각화\n",
    "plt.plot(co, label='Carbon monooxide')\n",
    "plt.plot(nmhc, label='Non-methane hydrocarbon')\n",
    "plt.ylabel('Concentration')\n",
    "plt.legend(loc='best')"
   ]
  },
  {
   "cell_type": "code",
   "execution_count": 7,
   "metadata": {},
   "outputs": [
    {
     "data": {
      "text/plain": [
       "Datetime\n",
       "2004-03-10 18:00:00    0.218487\n",
       "2004-03-10 19:00:00    0.168067\n",
       "2004-03-10 20:00:00    0.184874\n",
       "2004-03-10 21:00:00    0.184874\n",
       "2004-03-10 22:00:00    0.134454\n",
       "                         ...   \n",
       "2005-04-04 10:00:00    0.260504\n",
       "2005-04-04 11:00:00    0.201681\n",
       "2005-04-04 12:00:00    0.201681\n",
       "2005-04-04 13:00:00    0.176471\n",
       "2005-04-04 14:00:00    0.184874\n",
       "Name: CO_Norm, Length: 9357, dtype: float64"
      ]
     },
     "execution_count": 7,
     "metadata": {},
     "output_type": "execute_result"
    }
   ],
   "source": [
    "# [+] 일산화탄소 변수 정규화\n",
    "co_max = co.max()  # 최대값\n",
    "co_min = co.min()  # 최소값\n",
    "\n",
    "# 최소-최대 정규화\n",
    "df['CO_Norm'] = (co - co_min) / (co_max - co_min)\n",
    "df['CO_Norm']"
   ]
  },
  {
   "cell_type": "code",
   "execution_count": 8,
   "metadata": {},
   "outputs": [
    {
     "data": {
      "text/plain": [
       "Datetime\n",
       "2004-03-10 18:00:00    0.362097\n",
       "2004-03-10 19:00:00    0.312398\n",
       "2004-03-10 20:00:00    0.303659\n",
       "2004-03-10 21:00:00    0.308575\n",
       "2004-03-10 22:00:00    0.247406\n",
       "                         ...   \n",
       "2005-04-04 10:00:00    0.392135\n",
       "2005-04-04 11:00:00    0.351720\n",
       "2005-04-04 12:00:00    0.371382\n",
       "2005-04-04 13:00:00    0.315674\n",
       "2005-04-04 14:00:00    0.362643\n",
       "Name: NMHC_Norm, Length: 9357, dtype: float64"
      ]
     },
     "execution_count": 8,
     "metadata": {},
     "output_type": "execute_result"
    }
   ],
   "source": [
    "# [+] 비메탄탄화수소 변수 정규화\n",
    "nmhc_max = nmhc.max()\n",
    "nmhc_min = nmhc.min()\n",
    "\n",
    "df['NMHC_Norm'] = (nmhc - nmhc_min) / (nmhc_max - nmhc_min)\n",
    "df['NMHC_Norm']"
   ]
  },
  {
   "cell_type": "code",
   "execution_count": 9,
   "metadata": {},
   "outputs": [
    {
     "data": {
      "text/plain": [
       "<matplotlib.legend.Legend at 0x168d28810>"
      ]
     },
     "execution_count": 9,
     "metadata": {},
     "output_type": "execute_result"
    },
    {
     "data": {
      "image/png": "[encoded data removed]",
      "text/plain": [
       "<Figure size 640x480 with 1 Axes>"
      ]
     },
     "metadata": {},
     "output_type": "display_data"
    }
   ],
   "source": [
    "# 정규화된 두 변수 시각화\n",
    "plt.plot(df['CO_Norm'], label='Carbon monooxide')\n",
    "plt.plot(df['NMHC_Norm'], label='Non-methane hydrocarbon')\n",
    "plt.ylabel('Concentration')\n",
    "plt.legend(loc='best')"
   ]
  },
  {
   "cell_type": "markdown",
   "metadata": {},
   "source": [
    "### **특징 분할**"
   ]
  },
  {
   "cell_type": "code",
   "execution_count": 10,
   "metadata": {},
   "outputs": [
    {
     "data": {
      "text/plain": [
       "0    The Godfather, 1972, Francis Ford Coppola\n",
       "1               Contact, 1997, Robert Zemeckis\n",
       "2                 Parasite, 2019, Joon-ho Bong\n",
       "dtype: object"
      ]
     },
     "execution_count": 10,
     "metadata": {},
     "output_type": "execute_result"
    }
   ],
   "source": [
    "# 예제: 영화 데이터\n",
    "movies = pd.Series([\"The Godfather, 1972, Francis Ford Coppola\",\n",
    "                    \"Contact, 1997, Robert Zemeckis\",\n",
    "                   \"Parasite, 2019, Joon-ho Bong\"])\n",
    "\n",
    "movies"
   ]
  },
  {
   "cell_type": "code",
   "execution_count": 11,
   "metadata": {},
   "outputs": [
    {
     "name": "stdout",
     "output_type": "stream",
     "text": [
      "['The Godfather', 'Contact', 'Parasite']\n",
      "[' 1972', ' 1997', ' 2019']\n",
      "[' Francis Ford Coppola', ' Robert Zemeckis', ' Joon-ho Bong']\n"
     ]
    }
   ],
   "source": [
    "# 영화 데이터의 값 부\n",
    "# Divide movie data into title, year, director columns\n",
    "lst_title = []\n",
    "lst_year = []\n",
    "lst_director = []\n",
    "\n",
    "for val in movies:\n",
    "    title, year, director = val.split(',')  # data split\n",
    "    lst_title.append(title)\n",
    "    lst_year.append(year)\n",
    "    lst_director.append(director)\n",
    "\n",
    "print(lst_title)\n",
    "print(lst_year)\n",
    "print(lst_director)"
   ]
  },
  {
   "cell_type": "code",
   "execution_count": 12,
   "metadata": {},
   "outputs": [
    {
     "data": {
      "text/html": [
       "<div>\n",
       "<style scoped>\n",
       "    .dataframe tbody tr th:only-of-type {\n",
       "        vertical-align: middle;\n",
       "    }\n",
       "\n",
       "    .dataframe tbody tr th {\n",
       "        vertical-align: top;\n",
       "    }\n",
       "\n",
       "    .dataframe thead th {\n",
       "        text-align: right;\n",
       "    }\n",
       "</style>\n",
       "<table border=\"1\" class=\"dataframe\">\n",
       "  <thead>\n",
       "    <tr style=\"text-align: right;\">\n",
       "      <th></th>\n",
       "      <th>title</th>\n",
       "      <th>year</th>\n",
       "      <th>director</th>\n",
       "    </tr>\n",
       "  </thead>\n",
       "  <tbody>\n",
       "    <tr>\n",
       "      <th>0</th>\n",
       "      <td>The Godfather</td>\n",
       "      <td>1972</td>\n",
       "      <td>Francis Ford Coppola</td>\n",
       "    </tr>\n",
       "    <tr>\n",
       "      <th>1</th>\n",
       "      <td>Contact</td>\n",
       "      <td>1997</td>\n",
       "      <td>Robert Zemeckis</td>\n",
       "    </tr>\n",
       "    <tr>\n",
       "      <th>2</th>\n",
       "      <td>Parasite</td>\n",
       "      <td>2019</td>\n",
       "      <td>Joon-ho Bong</td>\n",
       "    </tr>\n",
       "  </tbody>\n",
       "</table>\n",
       "</div>"
      ],
      "text/plain": [
       "           title   year               director\n",
       "0  The Godfather   1972   Francis Ford Coppola\n",
       "1        Contact   1997        Robert Zemeckis\n",
       "2       Parasite   2019           Joon-ho Bong"
      ]
     },
     "execution_count": 12,
     "metadata": {},
     "output_type": "execute_result"
    }
   ],
   "source": [
    "# Make a DataFrame object\n",
    "df_movie = pd.DataFrame()\n",
    "df_movie['title'] = lst_title\n",
    "df_movie['year'] = lst_year\n",
    "df_movie['director'] = lst_director\n",
    "\n",
    "df_movie"
   ]
  },
  {
   "cell_type": "code",
   "execution_count": null,
   "metadata": {},
   "outputs": [],
   "source": []
  }
 ],
 "metadata": {
  "kernelspec": {
   "display_name": "Python 3 (ipykernel)",
   "language": "python",
   "name": "python3"
  },
  "language_info": {
   "codemirror_mode": {
    "name": "ipython",
    "version": 3
   },
   "file_extension": ".py",
   "mimetype": "text/x-python",
   "name": "python",
   "nbconvert_exporter": "python",
   "pygments_lexer": "ipython3",
   "version": "3.11.7"
  }
 },
 "nbformat": 4,
 "nbformat_minor": 4
}
