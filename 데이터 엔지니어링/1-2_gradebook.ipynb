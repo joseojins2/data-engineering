{
 "cells": [
  {
   "cell_type": "markdown",
   "id": "c07afa95-f225-4078-8828-154939dfd989",
   "metadata": {},
   "source": [
    "# 과제 1-2 Gradebook"
   ]
  },
  {
   "cell_type": "markdown",
   "id": "0d2525d8-bc47-4741-9d7e-641a7f211cc1",
   "metadata": {},
   "source": [
    "You are a student and you are trying to organize your subjects and grades using Python. Let’s explore what we’ve learned about lists to organize your subjects and scores."
   ]
  },
  {
   "cell_type": "markdown",
   "id": "57f2efcd-25ee-4773-86c6-63e04ac443d3",
   "metadata": {},
   "source": [
    "### Create Some Lists:"
   ]
  },
  {
   "cell_type": "markdown",
   "id": "a78e01a4-bcf7-464c-a9f0-b5062157772a",
   "metadata": {},
   "source": [
    "1.Create a list called subjects and fill it with the classes you are taking:\n",
    "\"physics\"\n",
    "\"calculus\"\n",
    "\"poetry\"\n",
    "\"history\""
   ]
  },
  {
   "cell_type": "code",
   "execution_count": 12,
   "id": "aaa39161-853b-44f5-be63-bdd06fb2800d",
   "metadata": {},
   "outputs": [],
   "source": [
    "subjects = [\"physics\", \"calculus\", \"poetry\", \"history\"]"
   ]
  },
  {
   "cell_type": "markdown",
   "id": "dace7c6e-0e12-4230-a50c-edfb4e8abba4",
   "metadata": {},
   "source": [
    "2.Create a list called grades and fill it with your scores:\n",
    "98\n",
    "97\n",
    "85\n",
    "88"
   ]
  },
  {
   "cell_type": "code",
   "execution_count": 13,
   "id": "846ffd6d-9f71-4239-85dd-84b75d9dcf21",
   "metadata": {},
   "outputs": [],
   "source": [
    "scores = [98, 97, 85, 88]"
   ]
  },
  {
   "cell_type": "markdown",
   "id": "b597e80f-7f06-43d7-93ee-d77d847bf628",
   "metadata": {},
   "source": [
    "3.Manually (without any methods) create a two-dimensional list to combine subjects and grades. Use the table below as a reference to associated values. Assign the value into a variable called gradebook.\n",
    "Name\tTest Score\n",
    "\"physics\"\t98\n",
    "\"calculus\"\t97\n",
    "\"poetry\"\t85\n",
    "\"history\"\t88\n",
    "\n",
    "4.Print gradebook."
   ]
  },
  {
   "cell_type": "code",
   "execution_count": 14,
   "id": "860e5c4b-52bb-4ed6-959e-6daffe93aca2",
   "metadata": {},
   "outputs": [
    {
     "name": "stdout",
     "output_type": "stream",
     "text": [
      "[['physics', 98], ['calculus', 97], ['poetry', 85], ['history', 88]]\n"
     ]
    }
   ],
   "source": [
    "gradebook = [[\"physics\", 98], [\"calculus\", 97], [\"poetry\", 85], [\"history\", 88]]\n",
    "print (gradebook)"
   ]
  },
  {
   "cell_type": "markdown",
   "id": "768a4708-eca8-442a-b294-e74a495d0d4c",
   "metadata": {},
   "source": [
    "Does it look how you expected it would?"
   ]
  },
  {
   "cell_type": "markdown",
   "id": "45df765b-59ea-4251-be8c-7cb077cf90d2",
   "metadata": {},
   "source": [
    "5.Your grade for your computer science class just came in! You got a perfect score, 100! Use the .append() method to add a list with the values of \"computer science\" and an associated grade value of 100 to our two-dimensional list of gradebook.\n",
    "\n",
    "6.Your grade for \"visual arts\" just came in! You got a 93! Use append to add [\"visual arts\", 93] to gradebook."
   ]
  },
  {
   "cell_type": "code",
   "execution_count": 15,
   "id": "bd82ad11-d2d2-40f4-9792-6ee741c20021",
   "metadata": {},
   "outputs": [
    {
     "name": "stdout",
     "output_type": "stream",
     "text": [
      "[['physics', 98], ['calculus', 97], ['poetry', 85], ['history', 88], ['computer science', 100], ['visual arts', 93]]\n"
     ]
    }
   ],
   "source": [
    "gradebook.append([\"computer science\", 100])\n",
    "gradebook.append([\"visual arts\", 93])\n",
    "\n",
    "print(gradebook)"
   ]
  },
  {
   "cell_type": "markdown",
   "id": "4fcc731b-a7c1-403f-a4d7-69776d96a816",
   "metadata": {},
   "source": [
    "## Modify The Gradebook:"
   ]
  },
  {
   "cell_type": "markdown",
   "id": "1fdfef56-5565-40c9-a399-660f7312af32",
   "metadata": {},
   "source": [
    "7.Our instructor just told us they made a mistake grading and are rewarding an extra 5 points for our visual arts class. Access the index of the grade for your visual arts class and modify it to be 5 points greater.\n",
    "\n",
    "8.You decided to switch from a numerical grade value to a Pass/Fail option for your poetry class. Find the grade value in your gradebook for your poetry class and use the .remove() method to delete it.\n",
    "\n",
    "9.Use the .append() method to then add a new \"Pass\" value to the sublist where your poetry class is located."
   ]
  },
  {
   "cell_type": "code",
   "execution_count": 16,
   "id": "1f3b160d-a8eb-4744-aaa8-547b2c3d22da",
   "metadata": {},
   "outputs": [
    {
     "name": "stdout",
     "output_type": "stream",
     "text": [
      "[['physics', 98], ['calculus', 97], ['poetry', 'Pass'], ['history', 88], ['computer science', 100], ['visual arts', 98]]\n"
     ]
    }
   ],
   "source": [
    "gradebook[-1][1] += 5  \n",
    "\n",
    "poetry_index = subjects.index(\"poetry\")  \n",
    "gradebook[poetry_index].remove(85) \n",
    "\n",
    "gradebook[poetry_index].append(\"Pass\")\n",
    "\n",
    "print(gradebook)"
   ]
  },
  {
   "cell_type": "markdown",
   "id": "22fea7b6-9253-4016-86f1-429774fa9489",
   "metadata": {},
   "source": [
    "## One Big Gradebook!"
   ]
  },
  {
   "cell_type": "markdown",
   "id": "95e2f3be-3fde-4d27-bd99-a25a948e9a01",
   "metadata": {},
   "source": [
    "10.You also have your grades from last semester, stored in last_semester_gradebook."
   ]
  },
  {
   "cell_type": "code",
   "execution_count": 17,
   "id": "a9b3cc0b-c56b-4949-aa05-9c367130af01",
   "metadata": {},
   "outputs": [
    {
     "name": "stdout",
     "output_type": "stream",
     "text": [
      "[['politics', 80], ['latin', 96], ['dance', 97], ['architecture', 65], ['physics', 98], ['calculus', 97], ['poetry', 'Pass'], ['history', 88], ['computer science', 100], ['visual arts', 98]]\n"
     ]
    }
   ],
   "source": [
    "last_semester_gradebook = [[\"politics\", 80], [\"latin\", 96], [\"dance\", 97], [\"architecture\", 65]]\n",
    "\n",
    "full_gradebook = last_semester_gradebook + gradebook\n",
    "\n",
    "print(full_gradebook)\n"
   ]
  },
  {
   "cell_type": "markdown",
   "id": "af35182d-dad2-459c-931c-9f80a5dd67a5",
   "metadata": {},
   "source": [
    "Create a new variable full_gradebook that combines both last_semester_gradebook and gradebook using + to have one complete grade book. Print full_gradebook to see our completed list."
   ]
  },
  {
   "cell_type": "code",
   "execution_count": 18,
   "id": "c96815be-0cdd-415a-b56b-2c68f8533e85",
   "metadata": {},
   "outputs": [
    {
     "name": "stdout",
     "output_type": "stream",
     "text": [
      "[['politics', 80], ['latin', 96], ['dance', 97], ['architecture', 65], ['physics', 98], ['calculus', 97], ['poetry', 'Pass'], ['history', 88], ['computer science', 100], ['visual arts', 98]]\n"
     ]
    }
   ],
   "source": [
    "last_semester_gradebook = [[\"politics\", 80], [\"latin\", 96], [\"dance\", 97], [\"architecture\", 65]]\n",
    "\n",
    "gradebook = [[\"physics\", 98], [\"calculus\", 97], [\"poetry\", \"Pass\"], [\"history\", 88], \n",
    "             [\"computer science\", 100], [\"visual arts\", 98]]\n",
    "\n",
    "full_gradebook = last_semester_gradebook + gradebook\n",
    "\n",
    "print(full_gradebook)\n"
   ]
  }
 ],
 "metadata": {
  "kernelspec": {
   "display_name": "Python 3 (ipykernel)",
   "language": "python",
   "name": "python3"
  },
  "language_info": {
   "codemirror_mode": {
    "name": "ipython",
    "version": 3
   },
   "file_extension": ".py",
   "mimetype": "text/x-python",
   "name": "python",
   "nbconvert_exporter": "python",
   "pygments_lexer": "ipython3",
   "version": "3.11.7"
  }
 },
 "nbformat": 4,
 "nbformat_minor": 5
}
