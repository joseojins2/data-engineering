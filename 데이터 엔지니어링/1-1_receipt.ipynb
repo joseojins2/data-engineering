{
 "cells": [
  {
   "cell_type": "markdown",
   "id": "8363014b-3797-456c-b8b3-389c3df80642",
   "metadata": {},
   "source": [
    "# 과제 1-1: Receipts for Lovely Loveseats"
   ]
  },
  {
   "cell_type": "markdown",
   "id": "5a8ee027-d7bf-44d7-b27f-0f7ccf332770",
   "metadata": {},
   "source": [
    "We’ve decided to pursue the dream of small-business ownership and open up a furniture store called Lovely Loveseats for Neat Suites on Fleet Street. With our newfound knowledge of Python programming, we’re going to build a system to help speed up the process of creating receipts for your customers.\n",
    "\n",
    "In this project, we will be storing the names and prices of a furniture store’s catalog in variables. You will then process the total price and item list of customers, printing them to the output terminal."
   ]
  },
  {
   "cell_type": "markdown",
   "id": "3e1637a1-4af8-458b-b3c2-679ecc4d95b3",
   "metadata": {},
   "source": [
    "## Tasks"
   ]
  },
  {
   "cell_type": "markdown",
   "id": "a1132666-2072-492e-a880-f42e17dc13e2",
   "metadata": {},
   "source": [
    "### Adding In The Catalog"
   ]
  },
  {
   "cell_type": "markdown",
   "id": "968ea62f-b622-421d-a14b-8fc171e0871b",
   "metadata": {},
   "source": [
    "1.Let’s add in our first item, the Lovely Loveseat that is the store’s namesake. Create a variable called lovely_loveseat_description and assign to it the following string:"
   ]
  },
  {
   "cell_type": "code",
   "execution_count": 65,
   "id": "5e6b6f72-f7f0-4e85-9fa9-21ab1e73b45a",
   "metadata": {},
   "outputs": [],
   "source": [
    "catalog_descriptions = []\n",
    "catalog_prices = []\n",
    "\n",
    "lovely_loveseat_description  = \"Lovely Loveseat. Tufted polyester blend on wood. 32 inches high x 40 inches wide x 30 inches deep. Red or white.\"\n",
    "catalog_descriptions.append(lovely_loveseat_description)"
   ]
  },
  {
   "cell_type": "markdown",
   "id": "4e206c6a-c284-4e73-9b74-49bee344dada",
   "metadata": {},
   "source": [
    "2.Great, now let’s create a price for the loveseat. Create a variable lovely_loveseat_price and set it equal to 254.00.\n",
    "\n",
    "3.Let’s extend our inventory with another characteristic piece of furniture! Create a variable called stylish_settee_description and assign to it the following string:"
   ]
  },
  {
   "cell_type": "code",
   "execution_count": 66,
   "id": "16594a40-b0f2-4260-9b87-e081be780514",
   "metadata": {},
   "outputs": [],
   "source": [
    "lovely_loveseat_price = 254.00\n",
    "stylish_settee_description = \" Stylish Settee. Faux leather on birch. 29.50 inches high x 54.75 inches wide x 28 inches deep. Black.\"\n",
    "\n",
    "catalog_prices.append(lovely_loveseat_price)\n",
    "catalog_descriptions.append(stylish_settee_description)"
   ]
  },
  {
   "cell_type": "markdown",
   "id": "7e3b9f58-f511-4480-a994-8e0762163000",
   "metadata": {},
   "source": [
    "4.Now let’s set the price for our Stylish Settee. Create a variable stylish_settee_price and assign it the value of 180.50.\n",
    "\n",
    "5.Fantastic, we just need one more item before we’re ready for business. Create a new variable called luxurious_lamp_description and assign it the following:"
   ]
  },
  {
   "cell_type": "code",
   "execution_count": 67,
   "id": "79579f13-b790-4c46-9fec-a25b71011a05",
   "metadata": {},
   "outputs": [],
   "source": [
    "stylish_settee_price = 180.50\n",
    "luxurious_lamp_description = \"Luxurious Lamp. Glass and iron. 36 inches tall. Brown with cream shade.\"\n",
    "\n",
    "catalog_prices.append(stylish_settee_price)\n",
    "catalog_descriptions.append(luxurious_lamp_description)"
   ]
  },
  {
   "cell_type": "markdown",
   "id": "805e82e8-7b58-4492-8045-2d5d6693d53e",
   "metadata": {},
   "source": [
    "6.Let’s set the price for this item. Create a variable called luxurious_lamp_price and set it equal to 52.15.\n",
    "\n",
    "7.In order to be a business, we should also be calculating sales tax. Let’s store that in a variable as well."
   ]
  },
  {
   "cell_type": "code",
   "execution_count": 68,
   "id": "c5f4f818-56ac-4ed8-bb2c-341f8f86aa71",
   "metadata": {},
   "outputs": [],
   "source": [
    "luxurious_lamp_price = 52.15\n",
    "catalog_prices.append(luxurious_lamp_price)\n",
    "\n",
    "sales_tax = 0.088"
   ]
  },
  {
   "cell_type": "markdown",
   "id": "35dea520-38b6-4aaa-a44f-a3972f71d1e1",
   "metadata": {},
   "source": [
    "## Our First Customer"
   ]
  },
  {
   "cell_type": "markdown",
   "id": "75b12bd1-5f4f-4e5f-84f6-d261ed06f2a3",
   "metadata": {},
   "source": [
    "8.Our first customer is making their purchase! Let’s keep a running tally of their expenses by defining a variable called customer_one_total. Since they haven’t purchased anything yet, let’s set that variable equal to 0 for now.\n",
    "\n",
    "9.We should also keep a list of the descriptions of things they’re purchasing. Create a variable called customer_one_itemization and set that equal to the empty string \"\". We’ll tack on the descriptions to this as they make their purchases."
   ]
  },
  {
   "cell_type": "code",
   "execution_count": 69,
   "id": "d785c80a-3d51-4d47-9da6-f54b4a4d8cbd",
   "metadata": {},
   "outputs": [],
   "source": [
    "customer_one_total = 0\n",
    "customer_one_itemization = \"\""
   ]
  },
  {
   "cell_type": "markdown",
   "id": "883bffca-00ab-4e49-979c-8739dacf8e0b",
   "metadata": {},
   "source": [
    "10.Our customer has decided they are going to purchase our Lovely Loveseat! Add the price to customer_one_total.\n",
    "\n",
    "11.Let’s start keeping track of the items our customer purchased. Add the description of the Lovely Loveseat to customer_one_itemization."
   ]
  },
  {
   "cell_type": "code",
   "execution_count": 70,
   "id": "02a07e32-a245-4ec3-8547-482af4e06d14",
   "metadata": {},
   "outputs": [],
   "source": [
    "customer_one_total += lovely_loveseat_price\n",
    "customer_one_itemization += lovely_loveseat_description"
   ]
  },
  {
   "cell_type": "markdown",
   "id": "714b26cd-c0c8-45e5-8b9d-b577464b18fd",
   "metadata": {},
   "source": [
    "12.Our customer has also decided to purchase the Luxurious Lamp! Let’s add the price to the customer’s total.\n",
    "\n",
    "13.Let’s keep the itemization up-to-date and add the description of the Luxurious Lamp to our itemization."
   ]
  },
  {
   "cell_type": "code",
   "execution_count": 71,
   "id": "17f35079-401d-44f0-b8f3-101d9414602d",
   "metadata": {},
   "outputs": [],
   "source": [
    "customer_one_total += luxurious_lamp_price\n",
    "customer_one_itemization += luxurious_lamp_description"
   ]
  },
  {
   "cell_type": "markdown",
   "id": "d3352bf3-637a-4808-8822-33137b4cfb2b",
   "metadata": {},
   "source": [
    "14.They’re ready to check out! Let’s begin by calculating sales tax. Create a variable called customer_one_tax and set it equal to customer_one_total times sales_tax."
   ]
  },
  {
   "cell_type": "code",
   "execution_count": 72,
   "id": "96541284-045d-4f2d-babf-93b3cd3915da",
   "metadata": {},
   "outputs": [],
   "source": [
    "customer_one_tax = customer_one_total * sales_tax"
   ]
  },
  {
   "cell_type": "markdown",
   "id": "c1b5c3aa-fa78-408d-8824-b0cb06a2eb64",
   "metadata": {},
   "source": [
    "15.Add the sales tax to the customer’s total cost."
   ]
  },
  {
   "cell_type": "code",
   "execution_count": 73,
   "id": "bbcebb94-31d8-4390-a88f-d6ba9360688a",
   "metadata": {},
   "outputs": [],
   "source": [
    "customer_one_total += customer_one_tax"
   ]
  },
  {
   "cell_type": "markdown",
   "id": "b36a3504-2d97-4bdb-a26a-2b82781ba7fc",
   "metadata": {},
   "source": [
    "16.Let’s start printing up their receipt! Begin by printing out the heading for their itemization. Print the phrase \"Customer One Items:\".\n",
    "\n",
    "17.Print customer_one_itemization.\n",
    "\n",
    "18.Now add a heading for their total cost: Print out \"Customer One Total:\"\n",
    "\n",
    "19.Now print out their total! Our first customer now has a receipt for the things they purchased.\n"
   ]
  },
  {
   "cell_type": "code",
   "execution_count": 74,
   "id": "636b6137-3c25-4a2f-9869-f214b2171fa6",
   "metadata": {},
   "outputs": [
    {
     "name": "stdout",
     "output_type": "stream",
     "text": [
      "Customer One Items:\n",
      "Lovely Loveseat. Tufted polyester blend on wood. 32 inches high x 40 inches wide x 30 inches deep. Red or white.Luxurious Lamp. Glass and iron. 36 inches tall. Brown with cream shade.\n",
      "Customer One Total:\n",
      "333.09119999999996\n"
     ]
    }
   ],
   "source": [
    "print(\"Customer One Items:\")\n",
    "print(customer_one_itemization)\n",
    "print(\"Customer One Total:\")\n",
    "print(customer_one_total)"
   ]
  },
  {
   "cell_type": "markdown",
   "id": "d94d3865-01f4-4382-887a-9509eb127307",
   "metadata": {},
   "source": [
    "20.Congratulations! We created our catalog and served our first customer. We used our knowledge of strings and numbers to create and update variables. We were able to print out an itemized list and a total cost for our customer. Lovely!"
   ]
  },
  {
   "cell_type": "markdown",
   "id": "aaefebe5-6b2d-49a0-8998-00bd45326179",
   "metadata": {},
   "source": [
    "## Expected Output"
   ]
  },
  {
   "cell_type": "code",
   "execution_count": 51,
   "id": "5e396e9c-2944-46f0-9038-00ac45387556",
   "metadata": {},
   "outputs": [
    {
     "ename": "SyntaxError",
     "evalue": "invalid syntax (3396696046.py, line 1)",
     "output_type": "error",
     "traceback": [
      "\u001b[0;36m  Cell \u001b[0;32mIn[51], line 1\u001b[0;36m\u001b[0m\n\u001b[0;31m    Customer One Items:\u001b[0m\n\u001b[0m             ^\u001b[0m\n\u001b[0;31mSyntaxError\u001b[0m\u001b[0;31m:\u001b[0m invalid syntax\n"
     ]
    }
   ],
   "source": [
    "Customer One Items:\n",
    "Lovely Loveseat. Tufted polyester blend on wood. 32 inches high x 40 inches wide x 30 inches deep. Red or white.Luxurious Lamp. Glass and iron. 36 inches tall. Brown with cream shade.\n",
    "Customer One Total:\n",
    "333.09119999999996"
   ]
  }
 ],
 "metadata": {
  "kernelspec": {
   "display_name": "Python 3 (ipykernel)",
   "language": "python",
   "name": "python3"
  },
  "language_info": {
   "codemirror_mode": {
    "name": "ipython",
    "version": 3
   },
   "file_extension": ".py",
   "mimetype": "text/x-python",
   "name": "python",
   "nbconvert_exporter": "python",
   "pygments_lexer": "ipython3",
   "version": "3.11.7"
  }
 },
 "nbformat": 4,
 "nbformat_minor": 5
}
