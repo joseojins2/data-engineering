{
 "cells": [
  {
   "cell_type": "markdown",
   "id": "9d06ad7f",
   "metadata": {},
   "source": [
    "## <strong>파이썬 컬렉션</strong>\n",
    "1. 컬렉션 타입 소개\n",
    "2. 리스트"
   ]
  },
  {
   "cell_type": "markdown",
   "id": "a9c17242",
   "metadata": {},
   "source": [
    "### <strong>1. 컬렉션 타입 소개</strong>\n",
    "+ Immutable Sequence 유형: Tuples, String\n",
    "+ Mutable Sequence 유형: Lists, Sets"
   ]
  },
  {
   "cell_type": "code",
   "execution_count": 1,
   "id": "24308f02",
   "metadata": {},
   "outputs": [
    {
     "data": {
      "text/plain": [
       "3"
      ]
     },
     "execution_count": 1,
     "metadata": {},
     "output_type": "execute_result"
    }
   ],
   "source": [
    "# [+] Tuple은 (value 1, value 2, ..., value n)와 같은 형식으로 선언\n",
    "coordinate = (3,4) # Tuple 예: 좌표\n",
    "coordinate[0]  # Jupyter lab에서는 셀 마지막 문장 실행 결과를 print() 상관없이 출력"
   ]
  },
  {
   "cell_type": "code",
   "execution_count": 3,
   "id": "cf5ac1a4",
   "metadata": {},
   "outputs": [],
   "source": [
    "# [+] Tuple은 값 변경이 불가능하다(immutable).\n",
    "coordinate = [1, 2]\n",
    "coordinate[0] = 2 "
   ]
  },
  {
   "cell_type": "code",
   "execution_count": 9,
   "id": "83881877",
   "metadata": {},
   "outputs": [
    {
     "data": {
      "text/plain": [
       "'Hyun Ahn'"
      ]
     },
     "execution_count": 9,
     "metadata": {},
     "output_type": "execute_result"
    }
   ],
   "source": [
    "# String 선언 방식: \"문자열 내용\" 또는 '문자열 내용'\n",
    "name = \"Hyun Ahn\"\n",
    "name"
   ]
  },
  {
   "cell_type": "code",
   "execution_count": 11,
   "id": "9da4b238",
   "metadata": {},
   "outputs": [
    {
     "name": "stdout",
     "output_type": "stream",
     "text": [
      "HyunBAhn\n"
     ]
    }
   ],
   "source": [
    "# [+] String도 역시 immutable\n",
    "new_name = name[:4] + 'B' + name[5:] \n",
    "print(new_name)"
   ]
  },
  {
   "cell_type": "code",
   "execution_count": 12,
   "id": "12159fd2",
   "metadata": {},
   "outputs": [
    {
     "data": {
      "text/plain": [
       "['hyun Ahn', 21, 'Male', True]"
      ]
     },
     "execution_count": 12,
     "metadata": {},
     "output_type": "execute_result"
    }
   ],
   "source": [
    "# [+] List 선언 방식: [value 1, value 2, ..., value n]\n",
    "my_info_lst = [\"hyun Ahn\", 21, 'Male', True] # list 예: 개인정보\n",
    "my_info_lst"
   ]
  },
  {
   "cell_type": "code",
   "execution_count": 13,
   "id": "2243d73b",
   "metadata": {},
   "outputs": [
    {
     "name": "stdout",
     "output_type": "stream",
     "text": [
      "['hyun Ahn', 2004, True, 'Anyang']\n"
     ]
    }
   ],
   "source": [
    "# [+] List는 값 변경(추가, 삭제, 수정)이 가능하다.\n",
    "my_info_lst[1] = 2004 # 수정\n",
    "my_info_lst.append(\"Anyang\") # 추가\n",
    "my_info_lst.remove('Male') # 삭제\n",
    "print(my_info_lst)"
   ]
  },
  {
   "cell_type": "code",
   "execution_count": 14,
   "id": "989c1ff9",
   "metadata": {},
   "outputs": [],
   "source": [
    "# [+] Set 선언 방식: set(List 객체)\n",
    "my_info_set = set(my_info_lst) "
   ]
  },
  {
   "cell_type": "code",
   "execution_count": 18,
   "id": "a99cad2f-5163-4211-acb0-1169d52f69eb",
   "metadata": {},
   "outputs": [
    {
     "name": "stdout",
     "output_type": "stream",
     "text": [
      "['hyun Ahn', 2004, True, 'Anyang']\n"
     ]
    }
   ],
   "source": [
    "# Set은 중복 허용하지 않고, 순서가 없다.\n",
    "my_info_set.add(\"Anyang\")\n",
    "print(my_info_lst) "
   ]
  },
  {
   "cell_type": "code",
   "execution_count": 19,
   "id": "07a39f8d-7c54-4af2-81db-fd3f0dd42b7a",
   "metadata": {},
   "outputs": [
    {
     "data": {
      "text/plain": [
       "'hyun Ahn'"
      ]
     },
     "execution_count": 19,
     "metadata": {},
     "output_type": "execute_result"
    }
   ],
   "source": [
    "my_info_lst[0]"
   ]
  },
  {
   "cell_type": "code",
   "execution_count": 20,
   "id": "2d9923d5",
   "metadata": {},
   "outputs": [
    {
     "name": "stdout",
     "output_type": "stream",
     "text": [
      "{'name': 'Alice', 'age': 25, 'city': 'Anyang'}\n"
     ]
    }
   ],
   "source": [
    "# [+] Dictionary 선언 방식: {'key 1':'value 1', ..., 'key n': 'value n'}\n",
    "\n",
    "hsu_dict = hsu_dict = {\n",
    "    'name': 'Alice',\n",
    "    'age': 25,\n",
    "    'city': 'Anyang'\n",
    "}\n",
    "print(hsu_dict)"
   ]
  },
  {
   "cell_type": "code",
   "execution_count": 21,
   "id": "bcbe58d5",
   "metadata": {},
   "outputs": [
    {
     "data": {
      "text/plain": [
       "{'name': 'Alice', 'age': 25, 'city': 'Anyang', 'gender': 'Female'}"
      ]
     },
     "execution_count": 21,
     "metadata": {},
     "output_type": "execute_result"
    }
   ],
   "source": [
    "# [+] Dictionary 값 추가\n",
    "hsu_dict['gender'] = 'Female'\n",
    "hsu_dict"
   ]
  },
  {
   "cell_type": "markdown",
   "id": "8c019b9a",
   "metadata": {},
   "source": [
    "### <strong>2. 리스트</strong>"
   ]
  },
  {
   "cell_type": "code",
   "execution_count": 22,
   "id": "8864cc2c",
   "metadata": {},
   "outputs": [
    {
     "data": {
      "text/plain": [
       "[2, 3, 5, 7, 11, 13, 17, 19, 23]"
      ]
     },
     "execution_count": 22,
     "metadata": {},
     "output_type": "execute_result"
    }
   ],
   "source": [
    "# [+] 리스트 선언\n",
    "primes = [2, 3, 5, 7, 11, 13, 17, 19, 23]\n",
    "primes"
   ]
  },
  {
   "cell_type": "code",
   "execution_count": 23,
   "id": "c1a4665b",
   "metadata": {},
   "outputs": [
    {
     "data": {
      "text/plain": [
       "['Jenny', 1, 1.4, True]"
      ]
     },
     "execution_count": 23,
     "metadata": {},
     "output_type": "execute_result"
    }
   ],
   "source": [
    "# 다양한 유형의 데이터 저장\n",
    "mixed = ['Jenny', 1, 1.4, True]\n",
    "mixed"
   ]
  },
  {
   "cell_type": "code",
   "execution_count": 24,
   "id": "bef72de8-0bee-4a91-b5ae-92e8741a7d6a",
   "metadata": {},
   "outputs": [
    {
     "data": {
      "text/plain": [
       "[['a', 1], ['b', 2]]"
      ]
     },
     "execution_count": 24,
     "metadata": {},
     "output_type": "execute_result"
    }
   ],
   "source": [
    "# 다차원 리스트\n",
    "list_of_lists = [['a', 1], ['b', 2]]\n",
    "list_of_lists"
   ]
  },
  {
   "cell_type": "code",
   "execution_count": 25,
   "id": "f62d81cb",
   "metadata": {},
   "outputs": [
    {
     "name": "stdout",
     "output_type": "stream",
     "text": [
      "Roger\n",
      "Rafael\n",
      "Andy\n",
      "Novak\n"
     ]
    }
   ],
   "source": [
    "# Zero-indexing\n",
    "names = ['Roger', 'Rafael', 'Andy', 'Novak']\n",
    "\n",
    "print(names[0]) # first data\n",
    "print(names[1])\n",
    "print(names[2])\n",
    "print(names[3])"
   ]
  },
  {
   "cell_type": "code",
   "execution_count": 26,
   "id": "4665751a",
   "metadata": {},
   "outputs": [
    {
     "name": "stdout",
     "output_type": "stream",
     "text": [
      "Novak\n",
      "Andy\n",
      "Rafael\n",
      "Roger\n"
     ]
    }
   ],
   "source": [
    "# Negative indexing\n",
    "print(names[-1]) # last data\n",
    "print(names[-2]) # second to last data\n",
    "print(names[-3]) # third to last data\n",
    "print(names[-4])"
   ]
  },
  {
   "cell_type": "code",
   "execution_count": 27,
   "id": "a2258ff7",
   "metadata": {},
   "outputs": [
    {
     "data": {
      "text/plain": [
       "['장공관', '필헌관', '소통관']"
      ]
     },
     "execution_count": 27,
     "metadata": {},
     "output_type": "execute_result"
    }
   ],
   "source": [
    "# [+] 리스트 슬라이싱\n",
    "hsu_buildings = ['만우관', '장공관', '필헌관', '소통관', '송암관', '늦봄관', '장준하통일관']\n",
    "building_slice = hsu_buildings[1:4] # [장공관, 필헌관, 소통관] 선택\n",
    "building_slice "
   ]
  },
  {
   "cell_type": "code",
   "execution_count": 28,
   "id": "e287d5a0-cd12-4aad-88e0-2dc6a3ebe4b1",
   "metadata": {},
   "outputs": [
    {
     "name": "stdout",
     "output_type": "stream",
     "text": [
      "['생활관', '필헌관', '소통관']\n",
      "['만우관', '장공관', '필헌관', '소통관', '송암관', '늦봄관', '장준하통일관']\n"
     ]
    }
   ],
   "source": [
    "# [+] 슬라이스 값 수정\n",
    "building_slice[0] = \"생활관\"\n",
    "print(building_slice)\n",
    "print(hsu_buildings)"
   ]
  },
  {
   "cell_type": "code",
   "execution_count": 29,
   "id": "225c92c4",
   "metadata": {},
   "outputs": [
    {
     "data": {
      "text/plain": [
       "[['해우리', '한식', '고S'],\n",
       " ['화락', '일식', '화락초밥'],\n",
       " ['찌개동아리', '한식', '제육전골'],\n",
       " ['몽상', '양식', '매운크림리조또']]"
      ]
     },
     "execution_count": 29,
     "metadata": {},
     "output_type": "execute_result"
    }
   ],
   "source": [
    "# 다차원 리스트\n",
    "restaurants = [['해우리', '한식', '고S'], ['화락', '일식', '화락초밥'], \n",
    "               ['찌개동아리', '한식', '제육전골'], ['몽상', '양식', '매운크림리조또']]\n",
    "\n",
    "restaurants"
   ]
  },
  {
   "cell_type": "code",
   "execution_count": 30,
   "id": "0505b487-1d97-4139-8096-8a0ea19efc77",
   "metadata": {},
   "outputs": [
    {
     "data": {
      "text/plain": [
       "['해우리', '한식', '해우라면']"
      ]
     },
     "execution_count": 30,
     "metadata": {},
     "output_type": "execute_result"
    }
   ],
   "source": [
    "# [+] 리스트 수정\n",
    "restaurants[0][2] = '해우라면'\n",
    "restaurants[0]"
   ]
  },
  {
   "cell_type": "code",
   "execution_count": 31,
   "id": "293eba2e-be55-4a73-999e-ff879103f384",
   "metadata": {},
   "outputs": [
    {
     "data": {
      "text/plain": [
       "[['해우리', '한식', '해우라면'],\n",
       " ['화락', '일식', '화락초밥'],\n",
       " ['찌개동아리', '한식', '제육전골'],\n",
       " ['몽상', '양식', '피자']]"
      ]
     },
     "execution_count": 31,
     "metadata": {},
     "output_type": "execute_result"
    }
   ],
   "source": [
    "restaurants[3][2] = '피자'\n",
    "restaurants"
   ]
  },
  {
   "cell_type": "code",
   "execution_count": 32,
   "id": "55c13f55",
   "metadata": {},
   "outputs": [
    {
     "data": {
      "text/plain": [
       "['cake', 'cookie', 'bread', 'biscuit', 'tart']"
      ]
     },
     "execution_count": 32,
     "metadata": {},
     "output_type": "execute_result"
    }
   ],
   "source": [
    "# [+] 리스트 병합하기\n",
    "items_one = ['cake', 'cookie', 'bread']\n",
    "items_two = ['biscuit', 'tart']\n",
    "\n",
    "total_items = items_one + items_two\n",
    "total_items"
   ]
  },
  {
   "cell_type": "markdown",
   "id": "ca8e1911-f431-4a13-8235-b4d92441d58a",
   "metadata": {},
   "source": [
    "#### <strong>리스트에서 제공하는 메소드들</strong>"
   ]
  },
  {
   "cell_type": "code",
   "execution_count": 33,
   "id": "9c1f3792",
   "metadata": {},
   "outputs": [
    {
     "data": {
      "text/plain": [
       "5"
      ]
     },
     "execution_count": 33,
     "metadata": {},
     "output_type": "execute_result"
    }
   ],
   "source": [
    "# [+] len()\n",
    "knapsack = [2, 4, 3, 7, 10]\n",
    "size = len(knapsack)\n",
    "size"
   ]
  },
  {
   "cell_type": "code",
   "execution_count": 34,
   "id": "69629dcc-995b-48ff-9c11-ae29732097dc",
   "metadata": {},
   "outputs": [
    {
     "data": {
      "text/plain": [
       "['daisies', 'periwinkle', 'rose']"
      ]
     },
     "execution_count": 34,
     "metadata": {},
     "output_type": "execute_result"
    }
   ],
   "source": [
    "# [+] append() 추가하기 \n",
    "orders = ['daisies', 'periwinkle']\n",
    "orders.append('rose')\n",
    "orders"
   ]
  },
  {
   "cell_type": "code",
   "execution_count": 35,
   "id": "0537c839-7fe7-4cda-81f2-ef22e09608ba",
   "metadata": {},
   "outputs": [
    {
     "data": {
      "text/plain": [
       "['Karla', 'Maxium', 'Seojin Jo', 'Martin', 'Isabella']"
      ]
     },
     "execution_count": 35,
     "metadata": {},
     "output_type": "execute_result"
    }
   ],
   "source": [
    "# [+] insert() 원하는 위치 데이터 삽입 \n",
    "store_line = ['Karla', 'Maxium', 'Martin', 'Isabella']\n",
    "store_line.insert(2, 'Seojin Jo')\n",
    "store_line"
   ]
  },
  {
   "cell_type": "code",
   "execution_count": 36,
   "id": "ecc87e93-351b-4622-98ca-11522039339c",
   "metadata": {},
   "outputs": [
    {
     "data": {
      "text/plain": [
       "[1, 2, 3, 4]"
      ]
     },
     "execution_count": 36,
     "metadata": {},
     "output_type": "execute_result"
    }
   ],
   "source": [
    "# [+] sort() 정렬하기 \n",
    "numbers = [4, 2, 1, 3]\n",
    "numbers.sort()\n",
    "numbers"
   ]
  },
  {
   "cell_type": "code",
   "execution_count": 37,
   "id": "0e917b86-1187-490a-882f-ca60e3d5829f",
   "metadata": {},
   "outputs": [
    {
     "data": {
      "text/plain": [
       "['늦봄관', '만우관', '소통관', '송암관', '장공관', '장준하통일관', '필헌관']"
      ]
     },
     "execution_count": 37,
     "metadata": {},
     "output_type": "execute_result"
    }
   ],
   "source": [
    "# sorted() 원본값 그대로 유지해서 정렬 \n",
    "hsu_buildings = ['만우관', '장공관', '필헌관', '소통관', '송암관', '늦봄관', '장준하통일관']\n",
    "hsu_buildings_sorted = (sorted(hsu_buildings))\n",
    "hsu_buildings_sorted"
   ]
  },
  {
   "cell_type": "code",
   "execution_count": 38,
   "id": "6528ca82-5009-4d2c-b4d0-b666e1eb99ee",
   "metadata": {},
   "outputs": [
    {
     "data": {
      "text/plain": [
       "['만우관', '장공관', '필헌관', '소통관', '송암관', '늦봄관', '장준하통일관']"
      ]
     },
     "execution_count": 38,
     "metadata": {},
     "output_type": "execute_result"
    }
   ],
   "source": [
    "hsu_buildings"
   ]
  }
 ],
 "metadata": {
  "kernelspec": {
   "display_name": "Python 3 (ipykernel)",
   "language": "python",
   "name": "python3"
  },
  "language_info": {
   "codemirror_mode": {
    "name": "ipython",
    "version": 3
   },
   "file_extension": ".py",
   "mimetype": "text/x-python",
   "name": "python",
   "nbconvert_exporter": "python",
   "pygments_lexer": "ipython3",
   "version": "3.11.7"
  }
 },
 "nbformat": 4,
 "nbformat_minor": 5
}
