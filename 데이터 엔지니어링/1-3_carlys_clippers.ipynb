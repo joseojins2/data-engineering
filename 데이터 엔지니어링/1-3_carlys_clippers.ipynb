{
 "cells": [
  {
   "cell_type": "markdown",
   "id": "be056c80-c559-45e0-bea9-2343b3a4a8c6",
   "metadata": {},
   "source": [
    "# 과제 1-3 Carly's Clippers"
   ]
  },
  {
   "cell_type": "markdown",
   "id": "e203d030-f7b2-4d53-9461-37b274fbea4b",
   "metadata": {},
   "source": [
    "You are the Data Analyst at Carly’s Clippers, the newest hair salon on the block. Your job is to go through the lists of data that have been collected in the past couple of weeks. You will be calculating some important metrics that Carly can use to plan out the operation of the business for the rest of the month."
   ]
  },
  {
   "cell_type": "markdown",
   "id": "6c2c5a8e-7691-4107-b0d0-fdeacc66a7ec",
   "metadata": {},
   "source": [
    "You have been provided with three lists:\n",
    "\n",
    "hairstyles: the names of the cuts offered at Carly’s Clippers."
   ]
  },
  {
   "cell_type": "code",
   "execution_count": 15,
   "id": "66a80875-e7c0-4552-b1bd-3a6e41bb3657",
   "metadata": {},
   "outputs": [],
   "source": [
    "hairstyles = [\"bouffant\", \"pixie\", \"dreadlocks\", \"crew\", \"bowl\", \"bob\", \"mohawk\", \"flattop\"]"
   ]
  },
  {
   "cell_type": "markdown",
   "id": "483c6ef1-f0e8-4eae-99e3-1ea2071b2ca6",
   "metadata": {},
   "source": [
    "prices: the price of each hairstyle in the hairstyles list."
   ]
  },
  {
   "cell_type": "code",
   "execution_count": 16,
   "id": "bf7944ad-3c9c-4586-bbf5-a684ff333e39",
   "metadata": {},
   "outputs": [],
   "source": [
    "prices = [30, 25, 40, 20, 20, 35, 50, 35]"
   ]
  },
  {
   "cell_type": "markdown",
   "id": "cdc1a67f-ce51-4d3f-b3ac-17ec7c46c50d",
   "metadata": {},
   "source": [
    "last_week: the number of purchases for each hairstyle type in the last week."
   ]
  },
  {
   "cell_type": "code",
   "execution_count": 17,
   "id": "08f7f659-08c4-4731-af28-6ca85733101d",
   "metadata": {},
   "outputs": [],
   "source": [
    "last_week = [2, 3, 5, 8, 4, 4, 6, 2]"
   ]
  },
  {
   "cell_type": "markdown",
   "id": "7ab8502e-5efd-4bf8-87f1-f970a32e88b4",
   "metadata": {},
   "source": [
    "Each index in hairstyles corresponds to an associated index in prices and last_week."
   ]
  },
  {
   "cell_type": "markdown",
   "id": "7b679992-9f03-46df-9437-c788a78fa15c",
   "metadata": {},
   "source": [
    "For example, The hairstyle \"bouffant\" has an associated price of 30 from the prices list, and was purchased 2 times in the last week as shown in the last_week list. Each of these elements are in the first index of their respective lists.\n",
    "\n",
    "Let’s get started!"
   ]
  },
  {
   "cell_type": "markdown",
   "id": "15c2dd02-67dc-43ff-8074-d727f5ed31d7",
   "metadata": {},
   "source": [
    "## Prices and Cuts:"
   ]
  },
  {
   "cell_type": "markdown",
   "id": "ae2dc22a-1f7a-4596-afae-48b7c497f89f",
   "metadata": {},
   "source": [
    "1.Carly wants to be able to market her low prices. We want to find out what the average price of a cut is. First, let’s sum up all the prices of haircuts. Create a variable total_price, and set it to 0.\n",
    "\n",
    "2.Loop through the prices list and add each price to the variable total_price.\n",
    "\n",
    "3.After your loop, create a variable called average_price that is the total_price divided by the number of prices. You can get the number of prices by using the len() function.\n",
    "\n",
    "4.Print the value of average_price."
   ]
  },
  {
   "cell_type": "code",
   "execution_count": 18,
   "id": "00cf80c9-c33f-4303-8216-03d2a45ecf2d",
   "metadata": {},
   "outputs": [
    {
     "name": "stdout",
     "output_type": "stream",
     "text": [
      "Average price is 31.875\n"
     ]
    }
   ],
   "source": [
    "total_price = 0\n",
    "\n",
    "for price in prices:\n",
    "    total_price += price\n",
    "\n",
    "average_price = total_price / len(prices)\n",
    "\n",
    "print(\"Average price is\", average_price)"
   ]
  },
  {
   "cell_type": "markdown",
   "id": "57ef9425-9a1f-4aa8-9309-9cb720db7032",
   "metadata": {},
   "source": [
    "5.That average price is more expensive than Carly thought it would be! She wants to cut all prices by 5 dollars. Use a list comprehension to make a list called new_prices, which has each element in prices minus 5.\n",
    "\n",
    "6.Print new_prices."
   ]
  },
  {
   "cell_type": "code",
   "execution_count": 19,
   "id": "f4128661-2558-4cba-a6de-07b4cf6b0350",
   "metadata": {},
   "outputs": [
    {
     "name": "stdout",
     "output_type": "stream",
     "text": [
      "[25, 20, 35, 15, 15, 30, 45, 30]\n"
     ]
    }
   ],
   "source": [
    "new_prices = [price - 5 for price in prices]\n",
    "\n",
    "print(new_prices) "
   ]
  },
  {
   "cell_type": "markdown",
   "id": "7f7aee44-7c8b-47d3-ba68-77d795d14c49",
   "metadata": {},
   "source": [
    "## Revenue:"
   ]
  },
  {
   "cell_type": "markdown",
   "id": "9abc09d3-c8f3-4f02-8a66-25fd4409eee2",
   "metadata": {},
   "source": [
    "7.Carly really wants to make sure that Carly’s Clippers is a profitable endeavor. She first wants to know how much revenue was brought in last week. Create a variable called total_revenue and set it to 0.\n",
    "\n",
    "8.Use a for loop to create a variable i that goes from 0 to len(hairstyles) Hint: You can use range() to do this!\n",
    "\n",
    "9.Add the product of prices[i] (the price of the haircut at position i) and last_week[i] (the number of people who got the haircut at position i) to total_revenue at each step.\n",
    "\n",
    "10.After your loop, print the value of total_revenue.\n",
    "\n",
    "11.Find the average daily revenue by dividing total_revenue by 7. Call this number average_daily_revenue and print it out."
   ]
  },
  {
   "cell_type": "code",
   "execution_count": 20,
   "id": "17e7b534-923b-4fc7-970a-711df6ace3b0",
   "metadata": {},
   "outputs": [
    {
     "name": "stdout",
     "output_type": "stream",
     "text": [
      "Average daily revenue is 155.0\n"
     ]
    }
   ],
   "source": [
    "total_revenue = 0\n",
    "\n",
    "for i in range(len(hairstyles)):\n",
    "    total_revenue += prices[i] * last_week[i]\n",
    "\n",
    "average_daily_revenue = total_revenue / 7\n",
    "print(\"Average daily revenue is\", average_daily_revenue)"
   ]
  },
  {
   "cell_type": "markdown",
   "id": "9d03a52e-1c33-44c9-b464-ffeb68f58257",
   "metadata": {},
   "source": [
    "12.Carly thinks she can bring in more customers by advertising all of the haircuts she has that are under 30 dollars. Use a list comprehension to create a list called cuts_under_30 that has the entry hairstyles[i] for each i for which new_prices[i] is less than 30. You can use range() in your list comprehension to make i go from 0 to len(new_prices) - 1.\n",
    "\n",
    "13.Print cuts_under_30."
   ]
  },
  {
   "cell_type": "code",
   "execution_count": 21,
   "id": "44cbb2a8-2230-4651-ba39-69aab2e7b35d",
   "metadata": {},
   "outputs": [
    {
     "name": "stdout",
     "output_type": "stream",
     "text": [
      "['bouffant', 'pixie', 'crew', 'bowl']\n"
     ]
    }
   ],
   "source": [
    "cuts_under_30 = [hairstyles[i] for i in range(len(new_prices)) if new_prices[i] < 30]\n",
    "\n",
    "print(cuts_under_30)"
   ]
  }
 ],
 "metadata": {
  "kernelspec": {
   "display_name": "Python 3 (ipykernel)",
   "language": "python",
   "name": "python3"
  },
  "language_info": {
   "codemirror_mode": {
    "name": "ipython",
    "version": 3
   },
   "file_extension": ".py",
   "mimetype": "text/x-python",
   "name": "python",
   "nbconvert_exporter": "python",
   "pygments_lexer": "ipython3",
   "version": "3.11.7"
  }
 },
 "nbformat": 4,
 "nbformat_minor": 5
}
