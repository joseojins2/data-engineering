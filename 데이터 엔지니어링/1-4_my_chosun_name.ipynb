{
 "cells": [
  {
   "cell_type": "markdown",
   "id": "03f3e105-a187-4943-87ca-ee9320a589d7",
   "metadata": {},
   "source": [
    "# 과제 1-4 나의 조선시대 이름 찾기"
   ]
  },
  {
   "cell_type": "markdown",
   "id": "2fd56645-89f7-4c8c-ac80-71e0039041ff",
   "metadata": {},
   "source": [
    "#### 성(family name), 태어난 달(month)과 태어난 날짜(day)를 입력받아 나의 조선시대 이름을 출력하는 함수를 작성하시오."
   ]
  },
  {
   "cell_type": "markdown",
   "id": "8cd5c7e3-aa48-4785-a41f-a684eb189288",
   "metadata": {},
   "source": [
    "\n",
    "##### 함수명: get_my_chosun_name()\n",
    "##### 매개변수: family_name, month, day"
   ]
  },
  {
   "cell_type": "markdown",
   "id": "75225649-b13d-4aa0-9143-35c9c9401a3b",
   "metadata": {},
   "source": [
    "1.태어난 달(month)에 해당되는 이름의 첫번째 글자를 구하기 위한 리스트를 생성하시오"
   ]
  },
  {
   "cell_type": "code",
   "execution_count": 6,
   "id": "fe8a78f1-946f-451b-b53e-345a21a9a562",
   "metadata": {},
   "outputs": [],
   "source": [
    "month_names = ['쌍', '쇠', '복', '돌', '팽', '육', '쌍', '개', '칠', '갑', '삼', '방']"
   ]
  },
  {
   "cell_type": "markdown",
   "id": "d851c064-fc02-495f-8133-29efc18e7d04",
   "metadata": {},
   "source": [
    "2.태어난 날짜(day)에 해당되는 이름의 두번째 글자를 구하기 위한 리스트를 생성하시오."
   ]
  },
  {
   "cell_type": "code",
   "execution_count": 7,
   "id": "b1464777-c034-4143-885f-0b16d9e13167",
   "metadata": {},
   "outputs": [],
   "source": [
    "day_names = ['봉', '구', '욕', '포', '똥', '삼', '식', '석', '놈', '님', '년', '돌', '단', '득', '방', '질', '장', '걸', '래', '룡', '동', '순', '자', '박', '창', '언', '것', '포', '만', '단', '국']"
   ]
  },
  {
   "cell_type": "markdown",
   "id": "449786ea-a490-458d-93ea-b1b64088b63a",
   "metadata": {},
   "source": [
    "3.나의 조선시대 이름을 문자열로 반환하는 함수 get_my_chosun_name() 을 작성하시오."
   ]
  },
  {
   "cell_type": "code",
   "execution_count": 10,
   "id": "e534e510-0caa-49f2-9895-030c0630b22a",
   "metadata": {},
   "outputs": [],
   "source": [
    "def get_my_chosun_name(last_name, month, day): # 함수 정의 def \n",
    "    # 리스트 인덱스가 0부터 시작하기 때문에, month - 1을 사용함 \n",
    "    chosun_name = [last_name, month_names[month - 1], day_names[day - 1]]\n",
    "    \n",
    "    return f\"당신의 조선시대 이름은 {''.join(chosun_name)} 입니다.\" # 하나의 문자열로 만들기 .join()"
   ]
  },
  {
   "cell_type": "markdown",
   "id": "fde48a9a-2127-4fd0-a5a7-0517ce852500",
   "metadata": {},
   "source": [
    "4.완성된 함수를 호출하여 나의 조선시대 이름을 출력하시오."
   ]
  },
  {
   "cell_type": "code",
   "execution_count": 11,
   "id": "b03fbae9-08e3-4804-ac13-2944adb89420",
   "metadata": {},
   "outputs": [
    {
     "name": "stdout",
     "output_type": "stream",
     "text": [
      "당신의 조선시대 이름은 조복놈 입니다.\n"
     ]
    }
   ],
   "source": [
    "print(get_my_chosun_name('조', 3, 9))"
   ]
  }
 ],
 "metadata": {
  "kernelspec": {
   "display_name": "Python 3 (ipykernel)",
   "language": "python",
   "name": "python3"
  },
  "language_info": {
   "codemirror_mode": {
    "name": "ipython",
    "version": 3
   },
   "file_extension": ".py",
   "mimetype": "text/x-python",
   "name": "python",
   "nbconvert_exporter": "python",
   "pygments_lexer": "ipython3",
   "version": "3.11.7"
  }
 },
 "nbformat": 4,
 "nbformat_minor": 5
}
